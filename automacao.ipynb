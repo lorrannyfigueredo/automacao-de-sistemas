{
  "cells": [
    {
      "cell_type": "markdown",
      "metadata": {
        "id": "view-in-github",
        "colab_type": "text"
      },
      "source": [
        "<a href=\"https://colab.research.google.com/github/lorrannyfigueredo/automacao-de-sistemas/blob/main/automacao.ipynb\" target=\"_parent\"><img src=\"https://colab.research.google.com/assets/colab-badge.svg\" alt=\"Open In Colab\"/></a>"
      ]
    },
    {
      "cell_type": "code",
      "execution_count": null,
      "metadata": {
        "id": "KSVeAWPpuTJF"
      },
      "outputs": [],
      "source": [
        "# Instalar - Só uma vez\n",
        "!pip install pyautogui\n",
        "!pip install pyperclip"
      ]
    },
    {
      "cell_type": "code",
      "execution_count": null,
      "metadata": {
        "id": "_wdmJ5o8uTJK"
      },
      "outputs": [],
      "source": [
        "import pyautogui\n",
        "import pyperclip\n",
        "import time\n",
        "\n",
        "pyautogui.PAUSE = 1\n",
        "\n",
        "# Escrever o passo a passo em português\n",
        "# Passo 1 - Entrar no sistem da empresa (drive)\n",
        "pyautogui.hotkey('ctrl', 't')\n",
        "pyperclip.copy('https://drive.google.com/drive/folders/149xknr9JvrlEnhNWO49zPcw0PW5icxga?usp=sharing')\n",
        "pyautogui.hotkey('ctrl', 'v')\n",
        "pyautogui.press('enter')\n",
        "time.sleep(3)\n",
        "\n",
        "# Passo 2 - Navegar no sistema até encontrar a base de dados\n",
        "pyautogui.click(x=227, y=216, clicks=2)\n",
        "time.sleep(3)\n",
        "\n",
        "# Passo 3 - Exportar a base de vendas\n",
        "pyautogui.click(x=288, y=284)\n",
        "pyautogui.click(x=1212, y=135)\n",
        "pyautogui.click(x=1029, y=445)\n",
        "time.sleep(5)"
      ]
    },
    {
      "cell_type": "markdown",
      "metadata": {
        "id": "Y_5Z-AyruTJL"
      },
      "source": [
        "### Vamos agora ler o arquivo baixado para pegar os indicadores\n",
        "\n",
        "- Faturamento\n",
        "- Quantidade de Produtos"
      ]
    },
    {
      "cell_type": "code",
      "execution_count": null,
      "metadata": {
        "id": "3ug8YnDSuTJN"
      },
      "outputs": [],
      "source": [
        "# Passo 4 - Calcular os indicadores (faturamento e quantidade)\n",
        "import pandas as pd\n",
        "\n",
        "tabela = pd.read_excel(r'C:\\Users\\Lorranny\\Downloads\\Vendas - Dez.xlsx')\n",
        "display(tabela)\n",
        "\n",
        "faturamento = tabela['Valor Final'].sum()\n",
        "quantidade = tabela['Quantidade'].sum()"
      ]
    },
    {
      "cell_type": "markdown",
      "metadata": {
        "id": "6VDfv_rpuTJP"
      },
      "source": [
        "### Vamos agora enviar um e-mail pelo gmail"
      ]
    },
    {
      "cell_type": "code",
      "execution_count": null,
      "metadata": {
        "id": "YqkF86mCuTJP"
      },
      "outputs": [],
      "source": [
        "# Passo 5: Entrar no email\n",
        "pyautogui.hotkey('ctrl', 't')\n",
        "pyperclip.copy('https://mail.google.com/mail/u/2/#inbox')\n",
        "pyautogui.hotkey('ctrl', 'v')\n",
        "pyautogui.press('enter')\n",
        "time.sleep(5)\n",
        "\n",
        "# Passo 6: Enviar por e-mail o resultado\n",
        "pyautogui.click(x=92, y=157)\n",
        "time.sleep(7)\n",
        "\n",
        "pyautogui.write('pythondiretoria@gmail.com')\n",
        "pyautogui.press('tab') # seleciona o email\n",
        "\n",
        "pyautogui.press('tab') # pula pro campo de assunto\n",
        "pyperclip.copy('Relatório de Vendas')\n",
        "pyautogui.hotkey('ctrl', 'v') # escrever o assunto\n",
        "pyautogui.press('tab') #pular pro corpo do email\n",
        "\n",
        "texto = f'''\n",
        "Prezados, bom dia\n",
        "\n",
        "O faturamento de ontem foi de: R${faturamento:,.2f}\n",
        "A quantidade de produtos foi de: {quantidade:,}\n",
        "\n",
        "Abs\n",
        "Lorranny Figueredo'''\n",
        "\n",
        "pyperclip.copy(texto)\n",
        "pyautogui.hotkey('ctrl', 'v')\n",
        "\n",
        "# apertar Ctrl Enter\n",
        "pyautogui.hotkey('ctrl', 'enter')"
      ]
    },
    {
      "cell_type": "markdown",
      "metadata": {
        "id": "t7omCM1ruTJQ"
      },
      "source": [
        "#### Use esse código para descobrir qual a posição de um item que queira clicar\n",
        "\n",
        "- Lembre-se: a posição na sua tela é diferente da posição na minha tela"
      ]
    },
    {
      "cell_type": "code",
      "execution_count": null,
      "metadata": {
        "id": "nNwJVFK9uTJR"
      },
      "outputs": [],
      "source": [
        "time.sleep(6)\n",
        "pyautogui.position()"
      ]
    }
  ],
  "metadata": {
    "kernelspec": {
      "display_name": "Python 3 (ipykernel)",
      "language": "python",
      "name": "python3"
    },
    "language_info": {
      "codemirror_mode": {
        "name": "ipython",
        "version": 3
      },
      "file_extension": ".py",
      "mimetype": "text/x-python",
      "name": "python",
      "nbconvert_exporter": "python",
      "pygments_lexer": "ipython3",
      "version": "3.9.7"
    },
    "colab": {
      "name": "automacao.ipynb",
      "provenance": [],
      "include_colab_link": true
    }
  },
  "nbformat": 4,
  "nbformat_minor": 0
}