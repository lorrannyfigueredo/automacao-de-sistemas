{
  "cells": [
    {
      "cell_type": "markdown",
      "metadata": {
        "id": "view-in-github",
        "colab_type": "text"
      },
      "source": [
        "<a href=\"https://colab.research.google.com/github/lorrannyfigueredo/automacao-de-sistemas/blob/main/automacao.ipynb\" target=\"_parent\"><img src=\"https://colab.research.google.com/assets/colab-badge.svg\" alt=\"Open In Colab\"/></a>"
      ]
    },
    {
      "cell_type": "code",
      "execution_count": null,
      "metadata": {
        "id": "KSVeAWPpuTJF",
        "outputId": "2a7c8245-eb78-49d0-bc08-5dc16246d6b3"
      },
      "outputs": [
        {
          "name": "stdout",
          "output_type": "stream",
          "text": [
            "Requirement already satisfied: pyautogui in c:\\users\\lorranny\\anaconda3\\lib\\site-packages (0.9.53)\n",
            "Requirement already satisfied: pygetwindow>=0.0.5 in c:\\users\\lorranny\\anaconda3\\lib\\site-packages (from pyautogui) (0.0.9)\n",
            "Requirement already satisfied: pymsgbox in c:\\users\\lorranny\\anaconda3\\lib\\site-packages (from pyautogui) (1.0.9)\n",
            "Requirement already satisfied: mouseinfo in c:\\users\\lorranny\\anaconda3\\lib\\site-packages (from pyautogui) (0.1.3)\n",
            "Requirement already satisfied: pyscreeze>=0.1.21 in c:\\users\\lorranny\\anaconda3\\lib\\site-packages (from pyautogui) (0.1.28)\n",
            "Requirement already satisfied: PyTweening>=1.0.1 in c:\\users\\lorranny\\anaconda3\\lib\\site-packages (from pyautogui) (1.0.4)\n",
            "Requirement already satisfied: pyrect in c:\\users\\lorranny\\anaconda3\\lib\\site-packages (from pygetwindow>=0.0.5->pyautogui) (0.1.4)\n",
            "Requirement already satisfied: pyperclip in c:\\users\\lorranny\\anaconda3\\lib\\site-packages (from mouseinfo->pyautogui) (1.8.2)\n",
            "Requirement already satisfied: pyperclip in c:\\users\\lorranny\\anaconda3\\lib\\site-packages (1.8.2)\n"
          ]
        }
      ],
      "source": [
        "# Instalar - Só uma vez\n",
        "!pip install pyautogui\n",
        "!pip install pyperclip"
      ]
    },
    {
      "cell_type": "code",
      "execution_count": null,
      "metadata": {
        "id": "_wdmJ5o8uTJK"
      },
      "outputs": [],
      "source": [
        "import pyautogui\n",
        "import pyperclip\n",
        "import time\n",
        "\n",
        "pyautogui.PAUSE = 1\n",
        "\n",
        "# Escrever o passo a passo em português\n",
        "# Passo 1 - Entrar no sistem da empresa (drive)\n",
        "pyautogui.hotkey('ctrl', 't')\n",
        "pyperclip.copy('https://drive.google.com/drive/folders/149xknr9JvrlEnhNWO49zPcw0PW5icxga?usp=sharing')\n",
        "pyautogui.hotkey('ctrl', 'v')\n",
        "pyautogui.press('enter')\n",
        "time.sleep(3)\n",
        "\n",
        "# Passo 2 - Navegar no sistema até encontrar a base de dados\n",
        "pyautogui.click(x=227, y=216, clicks=2)\n",
        "time.sleep(3)\n",
        "\n",
        "# Passo 3 - Exportar a base de vendas\n",
        "pyautogui.click(x=288, y=284)\n",
        "pyautogui.click(x=1212, y=135)\n",
        "pyautogui.click(x=1029, y=445)\n",
        "time.sleep(5)"
      ]
    },
    {
      "cell_type": "markdown",
      "metadata": {
        "id": "Y_5Z-AyruTJL"
      },
      "source": [
        "### Vamos agora ler o arquivo baixado para pegar os indicadores\n",
        "\n",
        "- Faturamento\n",
        "- Quantidade de Produtos"
      ]
    },
    {
      "cell_type": "code",
      "execution_count": null,
      "metadata": {
        "id": "3ug8YnDSuTJN",
        "outputId": "25962717-967a-46cf-c9a1-336537047c54"
      },
      "outputs": [
        {
          "data": {
            "text/html": [
              "<div>\n",
              "<style scoped>\n",
              "    .dataframe tbody tr th:only-of-type {\n",
              "        vertical-align: middle;\n",
              "    }\n",
              "\n",
              "    .dataframe tbody tr th {\n",
              "        vertical-align: top;\n",
              "    }\n",
              "\n",
              "    .dataframe thead th {\n",
              "        text-align: right;\n",
              "    }\n",
              "</style>\n",
              "<table border=\"1\" class=\"dataframe\">\n",
              "  <thead>\n",
              "    <tr style=\"text-align: right;\">\n",
              "      <th></th>\n",
              "      <th>Código Venda</th>\n",
              "      <th>Data</th>\n",
              "      <th>ID Loja</th>\n",
              "      <th>Produto</th>\n",
              "      <th>Quantidade</th>\n",
              "      <th>Valor Unitário</th>\n",
              "      <th>Valor Final</th>\n",
              "    </tr>\n",
              "  </thead>\n",
              "  <tbody>\n",
              "    <tr>\n",
              "      <th>0</th>\n",
              "      <td>65014</td>\n",
              "      <td>2019-12-01</td>\n",
              "      <td>Shopping Morumbi</td>\n",
              "      <td>Sunga Listrado</td>\n",
              "      <td>5</td>\n",
              "      <td>114</td>\n",
              "      <td>570</td>\n",
              "    </tr>\n",
              "    <tr>\n",
              "      <th>1</th>\n",
              "      <td>65014</td>\n",
              "      <td>2019-12-01</td>\n",
              "      <td>Shopping Morumbi</td>\n",
              "      <td>Casaco Listrado</td>\n",
              "      <td>1</td>\n",
              "      <td>269</td>\n",
              "      <td>269</td>\n",
              "    </tr>\n",
              "    <tr>\n",
              "      <th>2</th>\n",
              "      <td>65016</td>\n",
              "      <td>2019-12-01</td>\n",
              "      <td>Iguatemi Campinas</td>\n",
              "      <td>Sapato Listrado</td>\n",
              "      <td>2</td>\n",
              "      <td>363</td>\n",
              "      <td>726</td>\n",
              "    </tr>\n",
              "    <tr>\n",
              "      <th>3</th>\n",
              "      <td>65016</td>\n",
              "      <td>2019-12-01</td>\n",
              "      <td>Iguatemi Campinas</td>\n",
              "      <td>Casaco</td>\n",
              "      <td>1</td>\n",
              "      <td>250</td>\n",
              "      <td>250</td>\n",
              "    </tr>\n",
              "    <tr>\n",
              "      <th>4</th>\n",
              "      <td>65017</td>\n",
              "      <td>2019-12-01</td>\n",
              "      <td>Shopping SP Market</td>\n",
              "      <td>Gorro Liso</td>\n",
              "      <td>3</td>\n",
              "      <td>92</td>\n",
              "      <td>276</td>\n",
              "    </tr>\n",
              "    <tr>\n",
              "      <th>...</th>\n",
              "      <td>...</td>\n",
              "      <td>...</td>\n",
              "      <td>...</td>\n",
              "      <td>...</td>\n",
              "      <td>...</td>\n",
              "      <td>...</td>\n",
              "      <td>...</td>\n",
              "    </tr>\n",
              "    <tr>\n",
              "      <th>7084</th>\n",
              "      <td>69996</td>\n",
              "      <td>2019-12-26</td>\n",
              "      <td>Center Shopping Uberlândia</td>\n",
              "      <td>Short Listrado</td>\n",
              "      <td>2</td>\n",
              "      <td>102</td>\n",
              "      <td>204</td>\n",
              "    </tr>\n",
              "    <tr>\n",
              "      <th>7085</th>\n",
              "      <td>69996</td>\n",
              "      <td>2019-12-26</td>\n",
              "      <td>Center Shopping Uberlândia</td>\n",
              "      <td>Mochila</td>\n",
              "      <td>4</td>\n",
              "      <td>270</td>\n",
              "      <td>1080</td>\n",
              "    </tr>\n",
              "    <tr>\n",
              "      <th>7086</th>\n",
              "      <td>69996</td>\n",
              "      <td>2019-12-26</td>\n",
              "      <td>Center Shopping Uberlândia</td>\n",
              "      <td>Pulseira Estampa</td>\n",
              "      <td>1</td>\n",
              "      <td>87</td>\n",
              "      <td>87</td>\n",
              "    </tr>\n",
              "    <tr>\n",
              "      <th>7087</th>\n",
              "      <td>69997</td>\n",
              "      <td>2019-12-26</td>\n",
              "      <td>Ribeirão Shopping</td>\n",
              "      <td>Camisa Listrado</td>\n",
              "      <td>1</td>\n",
              "      <td>108</td>\n",
              "      <td>108</td>\n",
              "    </tr>\n",
              "    <tr>\n",
              "      <th>7088</th>\n",
              "      <td>69997</td>\n",
              "      <td>2019-12-26</td>\n",
              "      <td>Ribeirão Shopping</td>\n",
              "      <td>Short Linho</td>\n",
              "      <td>2</td>\n",
              "      <td>133</td>\n",
              "      <td>266</td>\n",
              "    </tr>\n",
              "  </tbody>\n",
              "</table>\n",
              "<p>7089 rows × 7 columns</p>\n",
              "</div>"
            ],
            "text/plain": [
              "      Código Venda       Data                     ID Loja           Produto  \\\n",
              "0            65014 2019-12-01            Shopping Morumbi    Sunga Listrado   \n",
              "1            65014 2019-12-01            Shopping Morumbi   Casaco Listrado   \n",
              "2            65016 2019-12-01           Iguatemi Campinas   Sapato Listrado   \n",
              "3            65016 2019-12-01           Iguatemi Campinas            Casaco   \n",
              "4            65017 2019-12-01          Shopping SP Market        Gorro Liso   \n",
              "...            ...        ...                         ...               ...   \n",
              "7084         69996 2019-12-26  Center Shopping Uberlândia    Short Listrado   \n",
              "7085         69996 2019-12-26  Center Shopping Uberlândia           Mochila   \n",
              "7086         69996 2019-12-26  Center Shopping Uberlândia  Pulseira Estampa   \n",
              "7087         69997 2019-12-26           Ribeirão Shopping   Camisa Listrado   \n",
              "7088         69997 2019-12-26           Ribeirão Shopping       Short Linho   \n",
              "\n",
              "      Quantidade  Valor Unitário  Valor Final  \n",
              "0              5             114          570  \n",
              "1              1             269          269  \n",
              "2              2             363          726  \n",
              "3              1             250          250  \n",
              "4              3              92          276  \n",
              "...          ...             ...          ...  \n",
              "7084           2             102          204  \n",
              "7085           4             270         1080  \n",
              "7086           1              87           87  \n",
              "7087           1             108          108  \n",
              "7088           2             133          266  \n",
              "\n",
              "[7089 rows x 7 columns]"
            ]
          },
          "metadata": {},
          "output_type": "display_data"
        }
      ],
      "source": [
        "# Passo 4 - Calcular os indicadores (faturamento e quantidade)\n",
        "import pandas as pd\n",
        "\n",
        "tabela = pd.read_excel(r'C:\\Users\\Lorranny\\Downloads\\Vendas - Dez.xlsx')\n",
        "display(tabela)\n",
        "\n",
        "faturamento = tabela['Valor Final'].sum()\n",
        "quantidade = tabela['Quantidade'].sum()"
      ]
    },
    {
      "cell_type": "markdown",
      "metadata": {
        "id": "6VDfv_rpuTJP"
      },
      "source": [
        "### Vamos agora enviar um e-mail pelo gmail"
      ]
    },
    {
      "cell_type": "code",
      "execution_count": null,
      "metadata": {
        "id": "YqkF86mCuTJP"
      },
      "outputs": [],
      "source": [
        "# Passo 5: Entrar no email\n",
        "pyautogui.hotkey('ctrl', 't')\n",
        "pyperclip.copy('https://mail.google.com/mail/u/2/#inbox')\n",
        "pyautogui.hotkey('ctrl', 'v')\n",
        "pyautogui.press('enter')\n",
        "time.sleep(5)\n",
        "\n",
        "# Passo 6: Enviar por e-mail o resultado\n",
        "pyautogui.click(x=92, y=157)\n",
        "time.sleep(7)\n",
        "\n",
        "pyautogui.write('pythondiretoria@gmail.com')\n",
        "pyautogui.press('tab') # seleciona o email\n",
        "\n",
        "pyautogui.press('tab') # pula pro campo de assunto\n",
        "pyperclip.copy('Relatório de Vendas')\n",
        "pyautogui.hotkey('ctrl', 'v') # escrever o assunto\n",
        "pyautogui.press('tab') #pular pro corpo do email\n",
        "\n",
        "texto = f'''\n",
        "Prezados, bom dia\n",
        "\n",
        "O faturamento de ontem foi de: R${faturamento:,.2f}\n",
        "A quantidade de produtos foi de: {quantidade:,}\n",
        "\n",
        "Abs\n",
        "Lorranny Figueredo'''\n",
        "\n",
        "pyperclip.copy(texto)\n",
        "pyautogui.hotkey('ctrl', 'v')\n",
        "\n",
        "# apertar Ctrl Enter\n",
        "pyautogui.hotkey('ctrl', 'enter')"
      ]
    },
    {
      "cell_type": "markdown",
      "metadata": {
        "id": "t7omCM1ruTJQ"
      },
      "source": [
        "#### Use esse código para descobrir qual a posição de um item que queira clicar\n",
        "\n",
        "- Lembre-se: a posição na sua tela é diferente da posição na minha tela"
      ]
    },
    {
      "cell_type": "code",
      "execution_count": null,
      "metadata": {
        "id": "nNwJVFK9uTJR",
        "outputId": "8a1e38ad-5d54-44a1-8f4a-c57c4cb7598f"
      },
      "outputs": [
        {
          "data": {
            "text/plain": [
              "Point(x=1249, y=744)"
            ]
          },
          "execution_count": 34,
          "metadata": {},
          "output_type": "execute_result"
        }
      ],
      "source": [
        "time.sleep(6)\n",
        "pyautogui.position()"
      ]
    }
  ],
  "metadata": {
    "kernelspec": {
      "display_name": "Python 3 (ipykernel)",
      "language": "python",
      "name": "python3"
    },
    "language_info": {
      "codemirror_mode": {
        "name": "ipython",
        "version": 3
      },
      "file_extension": ".py",
      "mimetype": "text/x-python",
      "name": "python",
      "nbconvert_exporter": "python",
      "pygments_lexer": "ipython3",
      "version": "3.9.7"
    },
    "colab": {
      "name": "automacao.ipynb",
      "provenance": [],
      "include_colab_link": true
    }
  },
  "nbformat": 4,
  "nbformat_minor": 0
}